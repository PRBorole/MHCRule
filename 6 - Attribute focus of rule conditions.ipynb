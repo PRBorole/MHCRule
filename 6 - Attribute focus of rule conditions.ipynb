{
 "cells": [
  {
   "cell_type": "code",
   "execution_count": 6,
   "id": "45418a07",
   "metadata": {},
   "outputs": [],
   "source": [
    "from Bio import motifs\n",
    "from Bio.Seq import Seq\n",
    "import logomaker\n",
    "\n",
    "import pandas as pd\n",
    "import numpy as np\n",
    "import time\n",
    "import itertools\n",
    "import pickle\n",
    "from tqdm import tqdm\n",
    "import matplotlib.pyplot as plt\n",
    "import seaborn as sns\n",
    "\n",
    "from matplotlib.gridspec import GridSpec\n",
    "from scipy.stats import kruskal\n",
    "\n",
    "import aaanalysis as aa\n",
    "aa.options[\"verbose\"] = False\n",
    "aa.options[\"random_state\"] = 42\n",
    "\n",
    "from rulekit.classification import RuleClassifier, ExpertRuleClassifier\n",
    "from rulekit.params import Measures\n",
    "from rulekit._helpers import *\n",
    "from jpype.pickle import JPickler, JUnpickler\n",
    "\n",
    "from sklearn.metrics import accuracy_score, f1_score, precision_recall_curve, roc_curve, auc\n",
    "from sklearn.metrics import make_scorer, roc_auc_score\n",
    "from sklearn.model_selection import StratifiedKFold, GridSearchCV\n",
    "\n",
    "from sklearn.model_selection import train_test_split\n",
    "from src.utils import *\n",
    "from src.utils_rules import *\n",
    "from src.MHCRule import *"
   ]
  },
  {
   "cell_type": "code",
   "execution_count": 3,
   "id": "02f28374",
   "metadata": {},
   "outputs": [
    {
     "name": "stderr",
     "output_type": "stream",
     "text": [
      "Jun 24, 2024 8:33:34 PM com.rapidminer.tools.I18N <clinit>\n",
      "INFO: Set locale to en.\n"
     ]
    }
   ],
   "source": [
    "# Read training data\n",
    "BA_df = pd.read_csv('./Data/Data_HLA.csv', index_col=0)\n",
    "BA_df = BA_df[BA_df['peptide_length']==9].reset_index(drop=True)\n",
    "\n",
    "# Read count df\n",
    "count_df = pd.read_csv('./Data/HLA_peptide_count.csv',index_col=0)\n",
    "\n",
    "# HLA list\n",
    "# Make sure we have atleast 10 peptides with atleast 6 +ve and -ve peptides\n",
    "allele_ls = count_df[(count_df['positives']>5)&(count_df['negatives']>5)&(count_df['total']>10)]['allele'].to_list()\n",
    "\n",
    "df_scales = aa.load_scales()\n",
    "_ = RuleClassifier()\n",
    "\n",
    "scale = 'KOEH090101'"
   ]
  },
  {
   "cell_type": "markdown",
   "id": "4aa826a9",
   "metadata": {},
   "source": [
    "## Rule coverage"
   ]
  },
  {
   "cell_type": "code",
   "execution_count": 7,
   "id": "6a4043b6",
   "metadata": {},
   "outputs": [
    {
     "name": "stderr",
     "output_type": "stream",
     "text": [
      "100%|████████████████████████████████████████████████████████████████████████████████████████████████████████████████████████████████████████████████████████████████████| 101/101 [00:00<00:00, 219.18it/s]\n"
     ]
    }
   ],
   "source": [
    "relevant_rules_ls_ = []\n",
    "rules_position_ls_ = []\n",
    "allele_ls_ = []\n",
    "\n",
    "# train classifier\n",
    "with open('./model/MHCRulePepOnly.pkl','rb') as f:\n",
    "    peponly = pickle.load(f)\n",
    "    \n",
    "f.close()\n",
    "\n",
    "with open('./model/MHCRuleHydro.pkl','rb') as f:\n",
    "    hydro = pickle.load(f)\n",
    "    \n",
    "f.close()\n",
    "\n",
    "for allele in tqdm(allele_ls):\n",
    "\n",
    "        allele_ls_ = allele_ls_ + [allele]\n",
    "        rules_ls = [str(rule) for rule in peponly.get_rules(allele) if '{1}' in str(rule)]\n",
    "        relevant_rules_ls_ = relevant_rules_ls_ + [rules_ls]\n",
    "\n",
    "        # get all conditions\n",
    "        conditions_ls = [get_rule_condition(rule) for rule in rules_ls]\n",
    "\n",
    "        # get positions used by rules\n",
    "        rules_position_ls_seq = [int(condition[0][3]) for condition in conditions_ls]\n",
    "        \n",
    "        ###########\n",
    "        rules_ls = [str(rule) for rule in hydro.get_rules(allele) if '{1}' in str(rule)]\n",
    "        \n",
    "        # Get covering rules that have label 1\n",
    "        relevant_rules_ls_ = relevant_rules_ls_ + [rules_ls]\n",
    "\n",
    "        # get all conditions\n",
    "        conditions_ls = [get_rule_condition(rule) for rule in rules_ls]\n",
    "\n",
    "        # get positions used by rules\n",
    "        rules_position_ls_scale = [int(condition[0][3]) for condition in conditions_ls]\n",
    "        \n",
    "        rules_position_ls = rules_position_ls_seq + rules_position_ls_scale\n",
    "        \n",
    "        rules_position_ls_ = rules_position_ls_ + [rules_position_ls]\n",
    "        \n",
    "        \n",
    "        "
   ]
  },
  {
   "cell_type": "code",
   "execution_count": 8,
   "id": "633876c7",
   "metadata": {},
   "outputs": [
    {
     "name": "stderr",
     "output_type": "stream",
     "text": [
      "set_ticklabels() should only be used with a fixed number of ticks, i.e. after set_ticks() or using a FixedLocator.\n"
     ]
    },
    {
     "data": {
      "image/png": "[encoded data removed]",
      "text/plain": [
       "<Figure size 600x400 with 1 Axes>"
      ]
     },
     "metadata": {},
     "output_type": "display_data"
    }
   ],
   "source": [
    "global_relevant_ls = [item for sublist in relevant_rules_ls_ if sublist for item in sublist]\n",
    "global_conditions_ls = [get_rule_condition(rule) for rule in global_relevant_ls]\n",
    "global_conditions_ls = [item for sublist in global_conditions_ls if sublist for item in sublist]\n",
    "global_positions_ls = [int(i[3]) for i in global_conditions_ls]\n",
    "\n",
    "fig,axs = plt.subplots(1,1,figsize=(6,4))\n",
    "fontsize = 14\n",
    "dpi = 600\n",
    "b = sns.countplot(x=global_positions_ls, saturation = 0.85, linewidth=1.5,edgecolor='black',\n",
    "               color='CornflowerBlue',ax=axs)\n",
    "\n",
    "b.set_ylabel('Condition counts', fontsize=fontsize)\n",
    "b.set_xlabel('Peptide position', fontsize=fontsize)\n",
    "b.set(ylim=(0,1800))\n",
    "\n",
    "# Adding labels \n",
    "# Retrieve and modify existing y-axis tick labels fontsize\n",
    "yticklabels = b.get_yticklabels()\n",
    "for label in yticklabels:\n",
    "    label.set_fontsize(fontsize-2)  # Set fontsize to 10\n",
    "    \n",
    "xticklabels = [i.get_text() for i in b.get_xticklabels()]\n",
    "b.set_xticklabels(xticklabels,fontsize=fontsize-2,rotation=0)\n",
    "sns.despine(top=True, right=True)\n",
    "\n",
    "fig.savefig('./figures/rule_conditions/condition_count.png',bbox_inches='tight', dpi=dpi)"
   ]
  },
  {
   "cell_type": "code",
   "execution_count": null,
   "id": "6c0250c0",
   "metadata": {},
   "outputs": [],
   "source": []
  },
  {
   "cell_type": "code",
   "execution_count": null,
   "id": "0f869a9a",
   "metadata": {},
   "outputs": [],
   "source": []
  },
  {
   "cell_type": "code",
   "execution_count": null,
   "id": "2dddf892",
   "metadata": {},
   "outputs": [],
   "source": []
  }
 ],
 "metadata": {
  "kernelspec": {
   "display_name": "Python 3 (ipykernel)",
   "language": "python",
   "name": "python3"
  },
  "language_info": {
   "codemirror_mode": {
    "name": "ipython",
    "version": 3
   },
   "file_extension": ".py",
   "mimetype": "text/x-python",
   "name": "python",
   "nbconvert_exporter": "python",
   "pygments_lexer": "ipython3",
   "version": "3.9.12"
  }
 },
 "nbformat": 4,
 "nbformat_minor": 5
}
