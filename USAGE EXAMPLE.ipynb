{
 "cells": [
  {
   "cell_type": "markdown",
   "id": "3546ed2c",
   "metadata": {},
   "source": [
    "### This notebook demonstrates how to make prediction uisng MHCRule.\n",
    "\n",
    "Note, with unpickle (Jype JUnpickler especially), you may encounter error: \n",
    "\n",
    "<p style=\"color: blue\">java.lang.NoSuchMethodError: java.nio.ByteBuffer.position(I)Ljava/nio/ByteBuffer;</p>\n",
    "\n",
    "For this error, just uninstalled and then reinstalled jpype (conda install -c conda-forge jpype1) and it resolved\n",
    "\n"
   ]
  },
  {
   "cell_type": "code",
   "execution_count": 4,
   "id": "0fe7e8ac",
   "metadata": {},
   "outputs": [],
   "source": [
    "# import libraries\n",
    "import pandas as pd\n",
    "import numpy as np\n",
    "import time\n",
    "import itertools\n",
    "import pickle\n",
    "\n",
    "import matplotlib.pyplot as plt\n",
    "import seaborn as sns\n",
    "\n",
    "from rulekit.classification import RuleClassifier, ExpertRuleClassifier\n",
    "from rulekit.params import Measures\n",
    "from rulekit._helpers import *\n",
    "from jpype.pickle import JPickler, JUnpickler\n",
    "\n",
    "from sklearn.metrics import accuracy_score, f1_score, precision_recall_curve, roc_curve, auc\n",
    "from sklearn.metrics import make_scorer, roc_auc_score\n",
    "from sklearn.model_selection import StratifiedKFold, GridSearchCV\n",
    "\n",
    "from sklearn.model_selection import train_test_split\n",
    "from src.utils import *\n",
    "from src.utils_rules import *\n",
    "from src.MHCRule import *"
   ]
  },
  {
   "cell_type": "code",
   "execution_count": 36,
   "id": "06692062",
   "metadata": {},
   "outputs": [],
   "source": [
    "# initialize rulekit\n",
    "_ = RuleClassifier()"
   ]
  },
  {
   "cell_type": "code",
   "execution_count": 27,
   "id": "5d5edb3b",
   "metadata": {},
   "outputs": [],
   "source": [
    "# Load model\n",
    "with open('./model/MHCRuleHydroPep.pkl','rb') as f:\n",
    "    hydropep = pickle.load(f)\n",
    "    \n",
    "f.close()"
   ]
  },
  {
   "cell_type": "markdown",
   "id": "f67ccebc",
   "metadata": {},
   "source": [
    "## model"
   ]
  },
  {
   "cell_type": "code",
   "execution_count": 28,
   "id": "4e896b22",
   "metadata": {},
   "outputs": [
    {
     "name": "stdout",
     "output_type": "stream",
     "text": [
      "Supported alleles:  101\n",
      "['HLA-A*02:01', 'HLA-A*03:01', 'HLA-A*11:01', 'HLA-A*02:03', 'HLA-A*31:01', 'HLA-A*02:06', 'HLA-A*68:02', 'HLA-B*07:02', 'HLA-A*01:01', 'HLA-B*15:01', 'HLA-A*26:01', 'HLA-A*68:01', 'HLA-A*02:02', 'HLA-A*24:02', 'HLA-B*58:01', 'HLA-B*27:05', 'HLA-A*33:01', 'HLA-B*35:01', 'HLA-B*08:01', 'HLA-B*40:01', 'HLA-A*30:01', 'HLA-B*57:01', 'HLA-B*51:01', 'HLA-B*18:01', 'HLA-A*29:02', 'HLA-A*69:01', 'HLA-A*23:01', 'HLA-A*30:02', 'HLA-B*44:02', 'HLA-B*46:01', 'HLA-B*53:01', 'HLA-B*39:01', 'HLA-B*44:03', 'HLA-B*15:17', 'HLA-A*02:19', 'HLA-A*24:03', 'HLA-B*54:01', 'HLA-A*02:12', 'HLA-A*80:01', 'HLA-A*32:01', 'HLA-A*02:11', 'HLA-B*40:02', 'HLA-B*45:01', 'HLA-B*08:02', 'HLA-A*25:01', 'HLA-A*02:16', 'HLA-B*27:03', 'HLA-B*48:01', 'HLA-B*15:09', 'HLA-B*15:03', 'HLA-A*26:02', 'HLA-A*26:03', 'HLA-B*38:01', 'HLA-C*04:01', 'HLA-B*08:03', 'HLA-C*07:01', 'HLA-C*06:02', 'HLA-A*02:17', 'HLA-B*83:01', 'HLA-C*03:04', 'HLA-B*35:03', 'HLA-C*14:02', 'HLA-C*05:01', 'HLA-B*14:02', 'HLA-B*42:01', 'HLA-B*15:02', 'HLA-C*15:02', 'HLA-C*07:02', 'HLA-C*12:03', 'HLA-C*03:03', 'HLA-B*35:08', 'HLA-A*02:50', 'HLA-C*08:02', 'HLA-B*73:01', 'HLA-A*02:05', 'HLA-A*02:07', 'HLA-A*66:01', 'HLA-A*32:07', 'HLA-B*27:04', 'HLA-B*27:02', 'HLA-A*68:23', 'HLA-B*27:06', 'HLA-A*32:15', 'HLA-B*37:01', 'HLA-B*07:01', 'HLA-B*27:01', 'HLA-B*40:13', 'HLA-B*58:02', 'HLA-B*27:09', 'HLA-C*08:01', 'HLA-B*14:01', 'HLA-B*15:16', 'HLA-B*57:03', 'HLA-B*39:06', 'HLA-B*52:01', 'HLA-A*30:03', 'HLA-A*03:19', 'HLA-B*55:02', 'HLA-C*12:02', 'HLA-A*03:02', 'HLA-B*81:01']\n",
      "\n",
      "Scale used for encoding peptide:  KOEH090101\n"
     ]
    }
   ],
   "source": [
    "# supported alleles\n",
    "print(\"Supported alleles: \", len(hydropep.alleles))\n",
    "print(hydropep.alleles)\n",
    "\n",
    "# Scale used for encoding\n",
    "print(\"\\nScale used for encoding peptide: \", hydropep.scale)"
   ]
  },
  {
   "cell_type": "code",
   "execution_count": 13,
   "id": "9e7c203d",
   "metadata": {},
   "outputs": [
    {
     "data": {
      "text/plain": [
       "['IF att2 = {Y} THEN label = {1}',\n",
       " 'IF att8 = {A} THEN label = {1}',\n",
       " 'IF att7 = {S} THEN label = {1}',\n",
       " 'IF att1 = {Y} THEN label = {1}',\n",
       " 'IF att8 = {P} THEN label = {1}',\n",
       " 'IF att5 = {N} THEN label = {0}',\n",
       " 'IF att1 = {R} THEN label = {0}',\n",
       " 'IF att9 = {F} THEN label = {0}',\n",
       " 'IF att9 = <0.11, inf) AND att5 = (-inf, 0.88) AND att1 = (-inf, 0.43) THEN label = {1}',\n",
       " 'IF att6 = <0.21, inf) AND att1 = (-inf, 0.43) AND att3 = (-inf, 0.62) THEN label = {1}',\n",
       " 'IF att2 = <0.11, 0.24) AND att4 = <0.43, inf) THEN label = {1}',\n",
       " 'IF att8 = <0.11, inf) AND att7 = <0.43, inf) AND att2 = (-inf, 0.27) THEN label = {1}',\n",
       " 'IF att6 = <0.11, inf) AND att5 = <0.16, inf) AND att7 = <0.16, inf) AND att2 = (-inf, 0.84) AND att1 = (-inf, 0.93) AND att3 = (-inf, 0.24) THEN label = {1}',\n",
       " 'IF att5 = (-inf, 0.54) AND att8 = <0.24, 0.48) AND att7 = <0.033, inf) AND att2 = (-inf, 0.84) AND att1 = (-inf, 0.73) AND att3 = (-inf, 0.81) THEN label = {1}',\n",
       " 'IF att9 = (-inf, 0.11) AND att7 = (-inf, 0.16) AND att2 = <0.19, inf) AND att1 = (-inf, 0.77) THEN label = {0}',\n",
       " 'IF att9 = <0.21, inf) AND att7 = (-inf, 0.57) AND att1 = <0.62, inf) THEN label = {0}',\n",
       " 'IF att6 = (-inf, 0.62) AND att7 = <0.32, inf) AND att1 = <0.45, inf) AND att4 = (-inf, 0.45) AND att3 = <0.16, inf) THEN label = {0}',\n",
       " 'IF att9 = <0.11, inf) AND att6 = (-inf, 0.84) AND att2 = <0.27, inf) AND att1 = <0.45, inf) AND att3 = <0.24, inf) THEN label = {0}']"
      ]
     },
     "execution_count": 13,
     "metadata": {},
     "output_type": "execute_result"
    }
   ],
   "source": [
    "# to get rules for an allele\n",
    "allele = 'HLA-C*14:02'\n",
    "hydropep.get_rules(allele)"
   ]
  },
  {
   "cell_type": "markdown",
   "id": "b03eab00",
   "metadata": {},
   "source": [
    "## predict using model"
   ]
  },
  {
   "cell_type": "code",
   "execution_count": 17,
   "id": "fa2e8fed",
   "metadata": {},
   "outputs": [
    {
     "data": {
      "text/plain": [
       "array([['A', 'L', 'I', 'R', 'I', 'L', 'Q', 'Q', 'L']], dtype='<U1')"
      ]
     },
     "execution_count": 17,
     "metadata": {},
     "output_type": "execute_result"
    }
   ],
   "source": [
    "# test data\n",
    "allele = 'HLA-A*02:01'\n",
    "peptide = ['ALIRILQQL']\n",
    "peptide = get_vector_representation(peptide)\n",
    "peptide"
   ]
  },
  {
   "cell_type": "code",
   "execution_count": 16,
   "id": "ff923179",
   "metadata": {
    "scrolled": true
   },
   "outputs": [
    {
     "data": {
      "text/plain": [
       "(array([1]),\n",
       " [['IF att7 = {Q} THEN label = {0}',\n",
       "   'IF att4 = {R} THEN label = {0}',\n",
       "   'IF att2 = {L} THEN label = {1}',\n",
       "   'IF att9 = {L} AND att6 = {L} THEN label = {1}',\n",
       "   'IF att9 = {L} THEN label = {1}']],\n",
       " [['IF att5 = <0.11, 0.93) AND att7 = <0.48, inf) AND att1 = <0.24, inf) AND att3 = <0.11, inf) THEN label = {0}',\n",
       "   'IF att5 = <0.033, 1.00) AND att7 = <0.27, inf) AND att4 = (-inf, 0.93) THEN label = {0}',\n",
       "   'IF att9 = <0.11, 0.32) AND att7 = (-inf, 0.81) AND att2 = <0.11, 0.16) AND att1 = (-inf, 0.73) THEN label = {1}',\n",
       "   'IF att9 = <0.11, 0.48) AND att6 = <0.033, 0.54) AND att7 = (-inf, 0.81) AND att2 = <0.11, 0.16) AND att1 = (-inf, 0.93) THEN label = {1}',\n",
       "   'IF att9 = (-inf, 0.32) AND att7 = (-inf, 1.00) AND att2 = <0.11, 0.16) AND att1 = (-inf, 0.93) AND att3 = (-inf, 0.62) THEN label = {1}',\n",
       "   'IF att9 = <0.11, 0.48) AND att6 = (-inf, 0.54) AND att7 = (-inf, 1.00) AND att2 = <0.11, 0.16) AND att1 = (-inf, 0.93) THEN label = {1}',\n",
       "   'IF att9 = <0.11, 0.48) AND att6 = (-inf, 0.51) AND att2 = <0.11, 0.16) AND att1 = (-inf, 0.93) AND att3 = (-inf, 0.62) THEN label = {1}',\n",
       "   'IF att9 = <0.11, 0.32) AND att6 = <0.033, inf) AND att8 = (-inf, 1.00) AND att2 = <0.11, 0.16) AND att1 = (-inf, 0.93) THEN label = {1}',\n",
       "   'IF att9 = <0.11, 0.48) AND att2 = <0.11, 0.16) AND att3 = (-inf, 0.62) THEN label = {1}',\n",
       "   'IF att9 = <0.11, 0.32) AND att7 = (-inf, 1.00) AND att2 = (-inf, 0.16) AND att1 = (-inf, 0.93) AND att3 = (-inf, 0.62) THEN label = {1}',\n",
       "   'IF att9 = <0.11, 0.32) AND att7 = (-inf, 0.81) AND att2 = <0.11, 0.27) AND att1 = (-inf, 0.93) AND att4 = <0.38, inf) AND att3 = (-inf, 0.27) THEN label = {1}',\n",
       "   'IF att9 = <0.11, 0.32) AND att2 = <0.11, 0.27) AND att3 = (-inf, 0.27) THEN label = {1}',\n",
       "   'IF att9 = <0.11, 0.21) AND att6 = (-inf, 1.00) AND att8 = <0.16, inf) AND att7 = (-inf, 0.81) AND att2 = (-inf, 0.27) AND att1 = (-inf, 0.62) AND att3 = (-inf, 0.48) THEN label = {1}',\n",
       "   'IF att9 = <0.11, 0.32) AND att6 = <0.033, 0.54) AND att2 = <0.11, 0.27) AND att1 = (-inf, 0.93) AND att3 = (-inf, 0.62) THEN label = {1}',\n",
       "   'IF att9 = <0.033, 0.32) AND att8 = (-inf, 1.00) AND att2 = <0.11, 0.27) AND att1 = (-inf, 0.93) THEN label = {1}',\n",
       "   'IF att9 = <0.11, 0.48) AND att6 = (-inf, 0.51) AND att2 = <0.11, 0.27) AND att1 = (-inf, 0.93) THEN label = {1}',\n",
       "   'IF att9 = <0.11, 0.93) AND att8 = (-inf, 1.00) AND att2 = <0.11, 0.27) AND att1 = (-inf, 1.00) AND att3 = (-inf, 0.48) THEN label = {1}',\n",
       "   'IF att9 = <0.11, 0.32) AND att6 = (-inf, 0.48) AND att8 = <0.033, inf) AND att2 = (-inf, 0.32) AND att1 = (-inf, 0.93) AND att3 = (-inf, 0.27) THEN label = {1}',\n",
       "   'IF att9 = (-inf, 0.32) AND att6 = <0.033, inf) AND att8 = <0.033, 1.00) AND att7 = (-inf, 0.54) AND att2 = <0.11, 0.32) AND att1 = (-inf, 0.93) THEN label = {1}',\n",
       "   'IF att9 = <0.11, 0.48) AND att6 = <0.033, inf) AND att8 = (-inf, 1.00) AND att7 = (-inf, 1.00) AND att2 = <0.11, 0.32) AND att1 = (-inf, 1.00) THEN label = {1}',\n",
       "   'IF att9 = <0.11, 1.00) AND att8 = (-inf, 1.00) AND att2 = <0.11, 0.40) THEN label = {1}',\n",
       "   'IF att9 = <0.11, 0.48) AND att6 = (-inf, 1.00) AND att2 = <0.11, 0.43) AND att1 = (-inf, 0.93) AND att3 = (-inf, 0.27) THEN label = {1}',\n",
       "   'IF att9 = <0.11, 0.48) AND att6 = <0.033, 0.48) AND att7 = (-inf, 0.81) AND att2 = (-inf, 0.51) AND att1 = (-inf, 0.93) AND att3 = (-inf, 0.27) THEN label = {1}',\n",
       "   'IF att9 = <0.11, 0.32) AND att6 = (-inf, 0.38) AND att2 = <0.11, 0.62) AND att3 = (-inf, 0.48) THEN label = {1}',\n",
       "   'IF att9 = <0.11, 0.73) AND att6 = <0.033, 0.40) AND att5 = (-inf, 0.81) AND att8 = (-inf, 0.81) AND att7 = (-inf, 1.00) AND att2 = <0.11, 1.00) AND att1 = (-inf, 0.93) AND att4 = <0.033, inf) THEN label = {1}',\n",
       "   'IF att9 = <0.11, 0.32) AND att6 = <0.033, 0.93) AND att8 = (-inf, 1.00) AND att7 = (-inf, 0.81) AND att2 = <0.11, 1.00) AND att1 = (-inf, 0.93) AND att3 = (-inf, 0.48) THEN label = {1}']])"
      ]
     },
     "execution_count": 16,
     "metadata": {},
     "output_type": "execute_result"
    }
   ],
   "source": [
    "# predict label\n",
    "## return_rules determines if rules are returned. \n",
    "## str_rules determines if str format rules are returned or coverage matrix is returned\n",
    "\n",
    "hydropep.predict(allele, peptide, return_rules=True, str_rules=True)"
   ]
  },
  {
   "cell_type": "code",
   "execution_count": 18,
   "id": "fa71c1a9",
   "metadata": {
    "scrolled": true
   },
   "outputs": [
    {
     "data": {
      "text/plain": [
       "(array([0.67716413]),\n",
       " [['IF att7 = {Q} THEN label = {0}',\n",
       "   'IF att4 = {R} THEN label = {0}',\n",
       "   'IF att2 = {L} THEN label = {1}',\n",
       "   'IF att9 = {L} AND att6 = {L} THEN label = {1}',\n",
       "   'IF att9 = {L} THEN label = {1}']],\n",
       " [['IF att5 = <0.11, 0.93) AND att7 = <0.48, inf) AND att1 = <0.24, inf) AND att3 = <0.11, inf) THEN label = {0}',\n",
       "   'IF att5 = <0.033, 1.00) AND att7 = <0.27, inf) AND att4 = (-inf, 0.93) THEN label = {0}',\n",
       "   'IF att9 = <0.11, 0.32) AND att7 = (-inf, 0.81) AND att2 = <0.11, 0.16) AND att1 = (-inf, 0.73) THEN label = {1}',\n",
       "   'IF att9 = <0.11, 0.48) AND att6 = <0.033, 0.54) AND att7 = (-inf, 0.81) AND att2 = <0.11, 0.16) AND att1 = (-inf, 0.93) THEN label = {1}',\n",
       "   'IF att9 = (-inf, 0.32) AND att7 = (-inf, 1.00) AND att2 = <0.11, 0.16) AND att1 = (-inf, 0.93) AND att3 = (-inf, 0.62) THEN label = {1}',\n",
       "   'IF att9 = <0.11, 0.48) AND att6 = (-inf, 0.54) AND att7 = (-inf, 1.00) AND att2 = <0.11, 0.16) AND att1 = (-inf, 0.93) THEN label = {1}',\n",
       "   'IF att9 = <0.11, 0.48) AND att6 = (-inf, 0.51) AND att2 = <0.11, 0.16) AND att1 = (-inf, 0.93) AND att3 = (-inf, 0.62) THEN label = {1}',\n",
       "   'IF att9 = <0.11, 0.32) AND att6 = <0.033, inf) AND att8 = (-inf, 1.00) AND att2 = <0.11, 0.16) AND att1 = (-inf, 0.93) THEN label = {1}',\n",
       "   'IF att9 = <0.11, 0.48) AND att2 = <0.11, 0.16) AND att3 = (-inf, 0.62) THEN label = {1}',\n",
       "   'IF att9 = <0.11, 0.32) AND att7 = (-inf, 1.00) AND att2 = (-inf, 0.16) AND att1 = (-inf, 0.93) AND att3 = (-inf, 0.62) THEN label = {1}',\n",
       "   'IF att9 = <0.11, 0.32) AND att7 = (-inf, 0.81) AND att2 = <0.11, 0.27) AND att1 = (-inf, 0.93) AND att4 = <0.38, inf) AND att3 = (-inf, 0.27) THEN label = {1}',\n",
       "   'IF att9 = <0.11, 0.32) AND att2 = <0.11, 0.27) AND att3 = (-inf, 0.27) THEN label = {1}',\n",
       "   'IF att9 = <0.11, 0.21) AND att6 = (-inf, 1.00) AND att8 = <0.16, inf) AND att7 = (-inf, 0.81) AND att2 = (-inf, 0.27) AND att1 = (-inf, 0.62) AND att3 = (-inf, 0.48) THEN label = {1}',\n",
       "   'IF att9 = <0.11, 0.32) AND att6 = <0.033, 0.54) AND att2 = <0.11, 0.27) AND att1 = (-inf, 0.93) AND att3 = (-inf, 0.62) THEN label = {1}',\n",
       "   'IF att9 = <0.033, 0.32) AND att8 = (-inf, 1.00) AND att2 = <0.11, 0.27) AND att1 = (-inf, 0.93) THEN label = {1}',\n",
       "   'IF att9 = <0.11, 0.48) AND att6 = (-inf, 0.51) AND att2 = <0.11, 0.27) AND att1 = (-inf, 0.93) THEN label = {1}',\n",
       "   'IF att9 = <0.11, 0.93) AND att8 = (-inf, 1.00) AND att2 = <0.11, 0.27) AND att1 = (-inf, 1.00) AND att3 = (-inf, 0.48) THEN label = {1}',\n",
       "   'IF att9 = <0.11, 0.32) AND att6 = (-inf, 0.48) AND att8 = <0.033, inf) AND att2 = (-inf, 0.32) AND att1 = (-inf, 0.93) AND att3 = (-inf, 0.27) THEN label = {1}',\n",
       "   'IF att9 = (-inf, 0.32) AND att6 = <0.033, inf) AND att8 = <0.033, 1.00) AND att7 = (-inf, 0.54) AND att2 = <0.11, 0.32) AND att1 = (-inf, 0.93) THEN label = {1}',\n",
       "   'IF att9 = <0.11, 0.48) AND att6 = <0.033, inf) AND att8 = (-inf, 1.00) AND att7 = (-inf, 1.00) AND att2 = <0.11, 0.32) AND att1 = (-inf, 1.00) THEN label = {1}',\n",
       "   'IF att9 = <0.11, 1.00) AND att8 = (-inf, 1.00) AND att2 = <0.11, 0.40) THEN label = {1}',\n",
       "   'IF att9 = <0.11, 0.48) AND att6 = (-inf, 1.00) AND att2 = <0.11, 0.43) AND att1 = (-inf, 0.93) AND att3 = (-inf, 0.27) THEN label = {1}',\n",
       "   'IF att9 = <0.11, 0.48) AND att6 = <0.033, 0.48) AND att7 = (-inf, 0.81) AND att2 = (-inf, 0.51) AND att1 = (-inf, 0.93) AND att3 = (-inf, 0.27) THEN label = {1}',\n",
       "   'IF att9 = <0.11, 0.32) AND att6 = (-inf, 0.38) AND att2 = <0.11, 0.62) AND att3 = (-inf, 0.48) THEN label = {1}',\n",
       "   'IF att9 = <0.11, 0.73) AND att6 = <0.033, 0.40) AND att5 = (-inf, 0.81) AND att8 = (-inf, 0.81) AND att7 = (-inf, 1.00) AND att2 = <0.11, 1.00) AND att1 = (-inf, 0.93) AND att4 = <0.033, inf) THEN label = {1}',\n",
       "   'IF att9 = <0.11, 0.32) AND att6 = <0.033, 0.93) AND att8 = (-inf, 1.00) AND att7 = (-inf, 0.81) AND att2 = <0.11, 1.00) AND att1 = (-inf, 0.93) AND att3 = (-inf, 0.48) THEN label = {1}']])"
      ]
     },
     "execution_count": 18,
     "metadata": {},
     "output_type": "execute_result"
    }
   ],
   "source": [
    "# predict binding probability\n",
    "## return_rules determines if rules are returned. \n",
    "## str_rules determines if str format rules are returned or coverage matrix is returned\n",
    "hydropep.predict_proba(allele, peptide, return_rules=True, str_rules=True)"
   ]
  },
  {
   "cell_type": "markdown",
   "id": "7176db86",
   "metadata": {},
   "source": [
    "## Add new allele\n",
    "If new allele data is available and needs to be included, it can be done in following manner.\n",
    "\n",
    "We will use allele HLA-A*02:01 as an example. Since it is already a supported allele for 9, we will train for peptides with length 10\n",
    "\n",
    "NOTES: \n",
    "1. In case rules for a specific allele needs to be retrained, pass retrain=True while fitting.\n",
    "\n",
    "2. Finally, multiple alleles are to be trained use fit_loop() fn from MHCRule.py"
   ]
  },
  {
   "cell_type": "code",
   "execution_count": 25,
   "id": "cc885a1d",
   "metadata": {},
   "outputs": [
    {
     "data": {
      "text/plain": [
       "((2388, 10), (2388,))"
      ]
     },
     "execution_count": 25,
     "metadata": {},
     "output_type": "execute_result"
    }
   ],
   "source": [
    "# read data file\n",
    "allele = 'HLA-A*02:01'\n",
    "BA_df = pd.read_csv('./Data/Data_HLA.csv', index_col=0)\n",
    "BA_df = BA_df[BA_df['peptide_length']==10].reset_index(drop=True)\n",
    "BA_df = BA_df[BA_df['allele']==allele].reset_index(drop=True)\n",
    "\n",
    "# split train, test\n",
    "train_df, test_df = train_test_split(BA_df, test_size=0.3, stratify=BA_df['y'].to_list())\n",
    "\n",
    "# Now, splitting test data into half to get test and validation sets\n",
    "test_df, valid_df = train_test_split(test_df, test_size=0.5)\n",
    "\n",
    "# get train\n",
    "X_train, y_train = get_vector_representation(train_df['peptide']), train_df['y'].to_numpy()\n",
    "\n",
    "X_train.shape, y_train.shape"
   ]
  },
  {
   "cell_type": "code",
   "execution_count": 35,
   "id": "dae4a8e9",
   "metadata": {},
   "outputs": [
    {
     "name": "stdout",
     "output_type": "stream",
     "text": [
      "Total training time in seconds:  4.92079758644104\n",
      "Supported alleles:  102\n",
      "['HLA-A*02:01', 'HLA-A*03:01', 'HLA-A*11:01', 'HLA-A*02:03', 'HLA-A*31:01', 'HLA-A*02:06', 'HLA-A*68:02', 'HLA-B*07:02', 'HLA-A*01:01', 'HLA-B*15:01', 'HLA-A*26:01', 'HLA-A*68:01', 'HLA-A*02:02', 'HLA-A*24:02', 'HLA-B*58:01', 'HLA-B*27:05', 'HLA-A*33:01', 'HLA-B*35:01', 'HLA-B*08:01', 'HLA-B*40:01', 'HLA-A*30:01', 'HLA-B*57:01', 'HLA-B*51:01', 'HLA-B*18:01', 'HLA-A*29:02', 'HLA-A*69:01', 'HLA-A*23:01', 'HLA-A*30:02', 'HLA-B*44:02', 'HLA-B*46:01', 'HLA-B*53:01', 'HLA-B*39:01', 'HLA-B*44:03', 'HLA-B*15:17', 'HLA-A*02:19', 'HLA-A*24:03', 'HLA-B*54:01', 'HLA-A*02:12', 'HLA-A*80:01', 'HLA-A*32:01', 'HLA-A*02:11', 'HLA-B*40:02', 'HLA-B*45:01', 'HLA-B*08:02', 'HLA-A*25:01', 'HLA-A*02:16', 'HLA-B*27:03', 'HLA-B*48:01', 'HLA-B*15:09', 'HLA-B*15:03', 'HLA-A*26:02', 'HLA-A*26:03', 'HLA-B*38:01', 'HLA-C*04:01', 'HLA-B*08:03', 'HLA-C*07:01', 'HLA-C*06:02', 'HLA-A*02:17', 'HLA-B*83:01', 'HLA-C*03:04', 'HLA-B*35:03', 'HLA-C*14:02', 'HLA-C*05:01', 'HLA-B*14:02', 'HLA-B*42:01', 'HLA-B*15:02', 'HLA-C*15:02', 'HLA-C*07:02', 'HLA-C*12:03', 'HLA-C*03:03', 'HLA-B*35:08', 'HLA-A*02:50', 'HLA-C*08:02', 'HLA-B*73:01', 'HLA-A*02:05', 'HLA-A*02:07', 'HLA-A*66:01', 'HLA-A*32:07', 'HLA-B*27:04', 'HLA-B*27:02', 'HLA-A*68:23', 'HLA-B*27:06', 'HLA-A*32:15', 'HLA-B*37:01', 'HLA-B*07:01', 'HLA-B*27:01', 'HLA-B*40:13', 'HLA-B*58:02', 'HLA-B*27:09', 'HLA-C*08:01', 'HLA-B*14:01', 'HLA-B*15:16', 'HLA-B*57:03', 'HLA-B*39:06', 'HLA-B*52:01', 'HLA-A*30:03', 'HLA-A*03:19', 'HLA-B*55:02', 'HLA-C*12:02', 'HLA-A*03:02', 'HLA-B*81:01', 'HLA-A*02:01_len10']\n"
     ]
    }
   ],
   "source": [
    "# Start the timer\n",
    "start_time = time.time()\n",
    "\n",
    "### first train mhcrulepeponly\n",
    "hydropep.mhcrulepeponly.fit(allele=allele+'_len10', \n",
    "                            X=X_train, y=y_train, \n",
    "                            retrain=False)\n",
    "\n",
    "### Next train mhcrulehydro\n",
    "hydropep.mhcrulehydro.fit(allele=allele+'_len10', \n",
    "                            X=X_train, y=y_train, \n",
    "                            retrain=False)\n",
    "\n",
    "### Finally fit train hydropep log reg\n",
    "hydropep.fit(allele=allele+'_len10', \n",
    "             X=X_train, y=y_train, \n",
    "             retrain=False)\n",
    "\n",
    "# End the timer\n",
    "end_time = time.time()\n",
    "elapsed_time = end_time - start_time\n",
    "\n",
    "print(\"Total training time in seconds: \", elapsed_time)\n",
    "\n",
    "# supported alleles\n",
    "print(\"Supported alleles: \", len(hydropep.alleles))\n",
    "print(hydropep.alleles)\n"
   ]
  },
  {
   "cell_type": "markdown",
   "id": "732403bc",
   "metadata": {},
   "source": [
    "As seen from supported alleles count and list, we successfully added a new allele \"HLA-A*02:01_len10\"."
   ]
  },
  {
   "cell_type": "code",
   "execution_count": null,
   "id": "d7832622",
   "metadata": {},
   "outputs": [],
   "source": [
    "# # Uncomment following lines to save model\n",
    "\n",
    "# with open('./model/MHCRuleHydroPep.pkl','wb') as f:\n",
    "#     pickle.dump(hydropep, f)\n",
    "    \n",
    "# f.close()"
   ]
  }
 ],
 "metadata": {
  "kernelspec": {
   "display_name": "Python 3 (ipykernel)",
   "language": "python",
   "name": "python3"
  },
  "language_info": {
   "codemirror_mode": {
    "name": "ipython",
    "version": 3
   },
   "file_extension": ".py",
   "mimetype": "text/x-python",
   "name": "python",
   "nbconvert_exporter": "python",
   "pygments_lexer": "ipython3",
   "version": "3.9.12"
  }
 },
 "nbformat": 4,
 "nbformat_minor": 5
}
